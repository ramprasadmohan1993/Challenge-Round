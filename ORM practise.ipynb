{
 "cells": [
  {
   "cell_type": "code",
   "execution_count": 1,
   "id": "e50bd57a",
   "metadata": {},
   "outputs": [],
   "source": [
    "import os, sys\n",
    "PWD = os.getenv('PWD')\n",
    "os.chdir(PWD)\n",
    "sys.path.insert(0, os.getenv('PWD'))\n",
    "os.environ.setdefault(\"DJANGO_SETTINGS_MODULE\", \"local_settings.py\")\n",
    "os.environ.setdefault('DJANGO_SETTINGS_MODULE', 'rest.settings')\n",
    "os.environ[\"DJANGO_ALLOW_ASYNC_UNSAFE\"] = \"true\"\n",
    "import django\n",
    "django.setup()"
   ]
  },
  {
   "cell_type": "code",
   "execution_count": 2,
   "id": "1c4d8fb2",
   "metadata": {},
   "outputs": [],
   "source": [
    "from polls.models import Author,Blog,Entry\n",
    "from datetime import date"
   ]
  },
  {
   "cell_type": "code",
   "execution_count": 3,
   "id": "cf10d8ee",
   "metadata": {},
   "outputs": [
    {
     "data": {
      "text/plain": [
       "<QuerySet [<Blog: Beatles Blog>, <Blog: Harry Blog>, <Blog: GoT>, <Blog: GoT>, <Blog: GoT>]>"
      ]
     },
     "execution_count": 3,
     "metadata": {},
     "output_type": "execute_result"
    }
   ],
   "source": [
    "Blog.objects.all()"
   ]
  },
  {
   "cell_type": "code",
   "execution_count": 4,
   "id": "30199883",
   "metadata": {},
   "outputs": [
    {
     "data": {
      "text/plain": [
       "<QuerySet [<Blog: Beatles Blog>]>"
      ]
     },
     "execution_count": 4,
     "metadata": {},
     "output_type": "execute_result"
    }
   ],
   "source": [
    "Blog.objects.all()[0:1]"
   ]
  },
  {
   "cell_type": "code",
   "execution_count": 5,
   "id": "b52e0b79",
   "metadata": {},
   "outputs": [
    {
     "data": {
      "text/plain": [
       "<Blog: Harry Blog>"
      ]
     },
     "execution_count": 5,
     "metadata": {},
     "output_type": "execute_result"
    }
   ],
   "source": [
    "Blog.objects.get(id__exact=2)"
   ]
  },
  {
   "cell_type": "code",
   "execution_count": 6,
   "id": "14bfdb68",
   "metadata": {},
   "outputs": [
    {
     "data": {
      "text/plain": [
       "<QuerySet [<Blog: Harry Blog>]>"
      ]
     },
     "execution_count": 6,
     "metadata": {},
     "output_type": "execute_result"
    }
   ],
   "source": [
    "Blog.objects.filter(name__startswith='H')"
   ]
  },
  {
   "cell_type": "code",
   "execution_count": 7,
   "id": "b14ff511",
   "metadata": {},
   "outputs": [
    {
     "data": {
      "text/plain": [
       "<Blog: GoT>"
      ]
     },
     "execution_count": 7,
     "metadata": {},
     "output_type": "execute_result"
    }
   ],
   "source": [
    "Blog.objects.get(pk=3)"
   ]
  },
  {
   "cell_type": "code",
   "execution_count": 8,
   "id": "bfe91018",
   "metadata": {},
   "outputs": [
    {
     "data": {
      "text/plain": [
       "<Blog: GoT>"
      ]
     },
     "execution_count": 8,
     "metadata": {},
     "output_type": "execute_result"
    }
   ],
   "source": [
    "Blog.objects.create(name='GoT',tagline='Game of Thrones related')"
   ]
  },
  {
   "cell_type": "code",
   "execution_count": 9,
   "id": "47fe3d99",
   "metadata": {},
   "outputs": [
    {
     "data": {
      "text/plain": [
       "<Author: Harper>"
      ]
     },
     "execution_count": 9,
     "metadata": {},
     "output_type": "execute_result"
    }
   ],
   "source": [
    "Author.objects.create(name=\"John\",email=\"John@123\")\n",
    "Author.objects.create(name=\"Paul\",email=\"Paul@123\")\n",
    "Author.objects.create(name=\"Mani Chandh\",email=\"ManiC@123\")\n",
    "Author.objects.create(name=\"Harper\",email=\"Harper@123\")"
   ]
  },
  {
   "cell_type": "code",
   "execution_count": 8,
   "id": "eb645535",
   "metadata": {},
   "outputs": [
    {
     "data": {
      "text/plain": [
       "<QuerySet [<Author: Joe>, <Author: John>, <Author: Paul>, <Author: Mani Chandh>, <Author: Harper>, <Author: John>, <Author: Paul>, <Author: Mani Chandh>, <Author: Harper>]>"
      ]
     },
     "execution_count": 8,
     "metadata": {},
     "output_type": "execute_result"
    }
   ],
   "source": [
    "Author.objects.all()"
   ]
  },
  {
   "cell_type": "code",
   "execution_count": 11,
   "id": "0f02a12e",
   "metadata": {},
   "outputs": [
    {
     "data": {
      "text/plain": [
       "<Entry: Lennon Would Have Loved Hip Hop>"
      ]
     },
     "execution_count": 11,
     "metadata": {},
     "output_type": "execute_result"
    }
   ],
   "source": [
    "Entry.objects.create(blog=Blog.objects.get(pk=1),headline='New Lennon Biography',pub_date=date(2008, 6, 1))\n",
    "Entry.objects.create(blog=Blog.objects.get(pk=1),headline='New Lennon Biography in Paperback',pub_date=date(2009, 6, 1))\n",
    "Entry.objects.create(blog=Blog.objects.get(pk=2),headline='Best Albums of 2008',pub_date=date(2008, 12, 15))\n",
    "Entry.objects.create(blog=Blog.objects.get(pk=3),headline='Lennon Would Have Loved Hip Hop',pub_date=date(2020, 4, 1))"
   ]
  },
  {
   "cell_type": "code",
   "execution_count": 12,
   "id": "82907ccc",
   "metadata": {},
   "outputs": [
    {
     "data": {
      "text/plain": [
       "<QuerySet [<Entry: New Lennon Biography>, <Entry: New Lennon Biography in Paperback>, <Entry: Best Albums of 2008>, <Entry: Lennon Would Have Loved Hip Hop>, <Entry: New Lennon Biography>, <Entry: New Lennon Biography in Paperback>, <Entry: Best Albums of 2008>, <Entry: Lennon Would Have Loved Hip Hop>, <Entry: New Lennon Biography>, <Entry: New Lennon Biography in Paperback>, <Entry: Best Albums of 2008>, <Entry: Lennon Would Have Loved Hip Hop>, <Entry: New Lennon Biography>, <Entry: New Lennon Biography in Paperback>, <Entry: Best Albums of 2008>, <Entry: Lennon Would Have Loved Hip Hop>]>"
      ]
     },
     "execution_count": 12,
     "metadata": {},
     "output_type": "execute_result"
    }
   ],
   "source": [
    "Entry.objects.all()"
   ]
  },
  {
   "cell_type": "code",
   "execution_count": 9,
   "id": "31085aa4",
   "metadata": {},
   "outputs": [
    {
     "data": {
      "text/plain": [
       "<QuerySet [<Entry: New Lennon Biography>, <Entry: New Lennon Biography in Paperback>, <Entry: New Lennon Biography>, <Entry: New Lennon Biography in Paperback>, <Entry: New Lennon Biography>, <Entry: New Lennon Biography in Paperback>, <Entry: New Lennon Biography>, <Entry: New Lennon Biography in Paperback>]>"
      ]
     },
     "execution_count": 9,
     "metadata": {},
     "output_type": "execute_result"
    }
   ],
   "source": [
    "Entry.objects.filter(headline__startswith=\"N\")"
   ]
  },
  {
   "cell_type": "code",
   "execution_count": 17,
   "id": "1d556bf7",
   "metadata": {},
   "outputs": [
    {
     "data": {
      "text/plain": [
       "<Author: Joe>"
      ]
     },
     "execution_count": 17,
     "metadata": {},
     "output_type": "execute_result"
    }
   ],
   "source": [
    "Author.objects.get(pk=1)"
   ]
  },
  {
   "cell_type": "code",
   "execution_count": 13,
   "id": "dfb32235",
   "metadata": {},
   "outputs": [
    {
     "data": {
      "text/plain": [
       "<QuerySet [<Entry: New Lennon Biography>, <Entry: Best Albums of 2008>, <Entry: New Lennon Biography>, <Entry: Best Albums of 2008>, <Entry: New Lennon Biography>, <Entry: Best Albums of 2008>, <Entry: New Lennon Biography>, <Entry: Best Albums of 2008>]>"
      ]
     },
     "execution_count": 13,
     "metadata": {},
     "output_type": "execute_result"
    }
   ],
   "source": [
    "Entry.objects.all().filter(pub_date__year = 2008)"
   ]
  },
  {
   "cell_type": "code",
   "execution_count": 27,
   "id": "d7fefe7c",
   "metadata": {},
   "outputs": [
    {
     "data": {
      "text/plain": [
       "<QuerySet [<Entry: New Lennon Biography>, <Entry: New Lennon Biography in Paperback>, <Entry: New Lennon Biography>, <Entry: New Lennon Biography in Paperback>, <Entry: New Lennon Biography>, <Entry: New Lennon Biography in Paperback>, <Entry: New Lennon Biography>, <Entry: New Lennon Biography in Paperback>]>"
      ]
     },
     "execution_count": 27,
     "metadata": {},
     "output_type": "execute_result"
    }
   ],
   "source": [
    "Entry.objects.filter(headline__startswith='N').exclude(pub_date__gte=date.today()).filter(pub_date__gte=date(2005, 1, 30))"
   ]
  },
  {
   "cell_type": "markdown",
   "id": "7be5fe7a",
   "metadata": {},
   "source": [
    "JSON Part"
   ]
  },
  {
   "cell_type": "code",
   "execution_count": 14,
   "id": "6bd66781",
   "metadata": {},
   "outputs": [],
   "source": [
    "from polls.models import Dog\n",
    "from django.db.models import Value"
   ]
  },
  {
   "cell_type": "code",
   "execution_count": 22,
   "id": "69f7260f",
   "metadata": {},
   "outputs": [
    {
     "data": {
      "text/plain": [
       "<Dog: Archie>"
      ]
     },
     "execution_count": 22,
     "metadata": {},
     "output_type": "execute_result"
    }
   ],
   "source": [
    "Dog.objects.create(name='Max', data=None)\n",
    "Dog.objects.create(name='Archie', data=Value('null'))"
   ]
  },
  {
   "cell_type": "code",
   "execution_count": 15,
   "id": "be3c6414",
   "metadata": {},
   "outputs": [
    {
     "data": {
      "text/plain": [
       "<QuerySet [<Dog: Max>, <Dog: Max>, <Dog: Max>, <Dog: Max>]>"
      ]
     },
     "execution_count": 15,
     "metadata": {},
     "output_type": "execute_result"
    }
   ],
   "source": [
    "#Dog.objects.filter(data=None)\n",
    "#Dog.objects.filter(data=Value('null'))\n",
    "Dog.objects.filter(data__isnull=True)"
   ]
  },
  {
   "cell_type": "code",
   "execution_count": 27,
   "id": "716a5cc3",
   "metadata": {},
   "outputs": [
    {
     "data": {
      "text/plain": [
       "<Dog: Rufus>"
      ]
     },
     "execution_count": 27,
     "metadata": {},
     "output_type": "execute_result"
    }
   ],
   "source": [
    "Dog.objects.create(name='Rufus', data={'breed': 'labrador','owner': {'name': 'Bob','other_pets': [{'name': 'Fishy',}],},})"
   ]
  },
  {
   "cell_type": "code",
   "execution_count": 28,
   "id": "66b29d7a",
   "metadata": {},
   "outputs": [
    {
     "data": {
      "text/plain": [
       "<Dog: Meg>"
      ]
     },
     "execution_count": 28,
     "metadata": {},
     "output_type": "execute_result"
    }
   ],
   "source": [
    "Dog.objects.create(name='Meg', data={'breed': 'collie', 'owner': None})"
   ]
  },
  {
   "cell_type": "code",
   "execution_count": 31,
   "id": "e0efbd26",
   "metadata": {},
   "outputs": [
    {
     "data": {
      "text/plain": [
       "<QuerySet [<Dog: Max>, <Dog: Max>, <Dog: Max>, <Dog: Max>, <Dog: Archie>, <Dog: Rufus>, <Dog: Meg>, <Dog: Shep>]>"
      ]
     },
     "execution_count": 31,
     "metadata": {},
     "output_type": "execute_result"
    }
   ],
   "source": [
    "Dog.objects.all()"
   ]
  },
  {
   "cell_type": "code",
   "execution_count": 30,
   "id": "96d7cc2f",
   "metadata": {},
   "outputs": [
    {
     "data": {
      "text/plain": [
       "<Dog: Shep>"
      ]
     },
     "execution_count": 30,
     "metadata": {},
     "output_type": "execute_result"
    }
   ],
   "source": [
    "Dog.objects.create(name='Shep', data={'breed': 'collie'})"
   ]
  },
  {
   "cell_type": "code",
   "execution_count": 16,
   "id": "86e8668c",
   "metadata": {},
   "outputs": [
    {
     "data": {
      "text/plain": [
       "<QuerySet [<Dog: Rufus>]>"
      ]
     },
     "execution_count": 16,
     "metadata": {},
     "output_type": "execute_result"
    }
   ],
   "source": [
    "Dog.objects.filter(data__owner__name='Bob')"
   ]
  },
  {
   "cell_type": "code",
   "execution_count": 17,
   "id": "fdd7234c",
   "metadata": {},
   "outputs": [
    {
     "data": {
      "text/plain": [
       "<QuerySet [<Dog: Rufus>]>"
      ]
     },
     "execution_count": 17,
     "metadata": {},
     "output_type": "execute_result"
    }
   ],
   "source": [
    "Dog.objects.filter(data__owner__other_pets__0__name='Fishy')"
   ]
  },
  {
   "cell_type": "code",
   "execution_count": null,
   "id": "9e2fd934",
   "metadata": {},
   "outputs": [],
   "source": []
  }
 ],
 "metadata": {
  "kernelspec": {
   "display_name": "Django Shell-Plus",
   "language": "python",
   "name": "django_extensions"
  },
  "language_info": {
   "codemirror_mode": {
    "name": "ipython",
    "version": 3
   },
   "file_extension": ".py",
   "mimetype": "text/x-python",
   "name": "python",
   "nbconvert_exporter": "python",
   "pygments_lexer": "ipython3",
   "version": "3.9.7"
  }
 },
 "nbformat": 4,
 "nbformat_minor": 5
}
